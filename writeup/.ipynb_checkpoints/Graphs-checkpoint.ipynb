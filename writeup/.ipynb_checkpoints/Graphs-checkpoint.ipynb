{
 "cells": [
  {
   "cell_type": "code",
   "execution_count": 1,
   "metadata": {
    "collapsed": true
   },
   "outputs": [],
   "source": [
    "%matplotlib inline\n",
    "import matplotlib.pyplot as plt\n",
    "import pandas as pd \n",
    "import numpy as np\n",
    "import json"
   ]
  },
  {
   "cell_type": "code",
   "execution_count": 3,
   "metadata": {
    "collapsed": false
   },
   "outputs": [
    {
     "data": {
      "text/html": [
       "<div>\n",
       "<table border=\"1\" class=\"dataframe\">\n",
       "  <thead>\n",
       "    <tr style=\"text-align: right;\">\n",
       "      <th></th>\n",
       "      <th>Timestamp</th>\n",
       "      <th>email (optional)</th>\n",
       "      <th>Do you currently have a meal plan?</th>\n",
       "      <th>On average, how many of your guest meals went unused at the end of the semester?</th>\n",
       "      <th>Would you be interested in selling your extra guest meals?</th>\n",
       "      <th>If yes, approximately how much would you expect them to sell for?</th>\n",
       "      <th>Would you pay the price you selected above to purchase a meal?</th>\n",
       "      <th>Why would or wouldn't you pay that price? (optional)</th>\n",
       "      <th>Would you register for a website that traded guest meals for cash?</th>\n",
       "      <th>Why would or wouldn't you? (optional)</th>\n",
       "    </tr>\n",
       "  </thead>\n",
       "  <tbody>\n",
       "    <tr>\n",
       "      <th>0</th>\n",
       "      <td>11/28/2016 23:52:32</td>\n",
       "      <td>NaN</td>\n",
       "      <td>Yes</td>\n",
       "      <td>6</td>\n",
       "      <td>Yes</td>\n",
       "      <td>$8.01 - $10</td>\n",
       "      <td>Yes</td>\n",
       "      <td>NaN</td>\n",
       "      <td>Yes</td>\n",
       "      <td>NaN</td>\n",
       "    </tr>\n",
       "    <tr>\n",
       "      <th>1</th>\n",
       "      <td>11/28/2016 23:57:52</td>\n",
       "      <td>NaN</td>\n",
       "      <td>Yes</td>\n",
       "      <td>4</td>\n",
       "      <td>Yes</td>\n",
       "      <td>$8.01 - $10</td>\n",
       "      <td>Yes</td>\n",
       "      <td>NaN</td>\n",
       "      <td>Yes</td>\n",
       "      <td>NaN</td>\n",
       "    </tr>\n",
       "    <tr>\n",
       "      <th>2</th>\n",
       "      <td>11/29/2016 0:00:41</td>\n",
       "      <td>NaN</td>\n",
       "      <td>Yes</td>\n",
       "      <td>7</td>\n",
       "      <td>Yes</td>\n",
       "      <td>$4.01 - $6</td>\n",
       "      <td>Yes</td>\n",
       "      <td>NaN</td>\n",
       "      <td>Yes</td>\n",
       "      <td>NaN</td>\n",
       "    </tr>\n",
       "    <tr>\n",
       "      <th>3</th>\n",
       "      <td>11/29/2016 0:01:53</td>\n",
       "      <td>NaN</td>\n",
       "      <td>Yes</td>\n",
       "      <td>10</td>\n",
       "      <td>Yes</td>\n",
       "      <td>$8.01 - $10</td>\n",
       "      <td>No</td>\n",
       "      <td>NaN</td>\n",
       "      <td>Yes</td>\n",
       "      <td>NaN</td>\n",
       "    </tr>\n",
       "    <tr>\n",
       "      <th>4</th>\n",
       "      <td>11/29/2016 0:10:53</td>\n",
       "      <td>NaN</td>\n",
       "      <td>Yes</td>\n",
       "      <td>0</td>\n",
       "      <td>No</td>\n",
       "      <td>$14.01 - $16</td>\n",
       "      <td>No</td>\n",
       "      <td>NaN</td>\n",
       "      <td>No</td>\n",
       "      <td>NaN</td>\n",
       "    </tr>\n",
       "  </tbody>\n",
       "</table>\n",
       "</div>"
      ],
      "text/plain": [
       "             Timestamp email (optional) Do you currently have a meal plan?  \\\n",
       "0  11/28/2016 23:52:32              NaN                                Yes   \n",
       "1  11/28/2016 23:57:52              NaN                                Yes   \n",
       "2   11/29/2016 0:00:41              NaN                                Yes   \n",
       "3   11/29/2016 0:01:53              NaN                                Yes   \n",
       "4   11/29/2016 0:10:53              NaN                                Yes   \n",
       "\n",
       "   On average, how many of your guest meals went unused at the end of the semester?   \\\n",
       "0                                                  6                                   \n",
       "1                                                  4                                   \n",
       "2                                                  7                                   \n",
       "3                                                 10                                   \n",
       "4                                                  0                                   \n",
       "\n",
       "  Would you be interested in selling your extra guest meals?  \\\n",
       "0                                                Yes           \n",
       "1                                                Yes           \n",
       "2                                                Yes           \n",
       "3                                                Yes           \n",
       "4                                                 No           \n",
       "\n",
       "  If yes, approximately how much would you expect them to sell for?   \\\n",
       "0                                        $8.01 - $10                   \n",
       "1                                        $8.01 - $10                   \n",
       "2                                         $4.01 - $6                   \n",
       "3                                        $8.01 - $10                   \n",
       "4                                       $14.01 - $16                   \n",
       "\n",
       "  Would you pay the price you selected above to purchase a meal?  \\\n",
       "0                                                Yes               \n",
       "1                                                Yes               \n",
       "2                                                Yes               \n",
       "3                                                 No               \n",
       "4                                                 No               \n",
       "\n",
       "  Why would or wouldn't you pay that price? (optional)  \\\n",
       "0                                                NaN     \n",
       "1                                                NaN     \n",
       "2                                                NaN     \n",
       "3                                                NaN     \n",
       "4                                                NaN     \n",
       "\n",
       "  Would you register for a website that traded guest meals for cash?  \\\n",
       "0                                                Yes                   \n",
       "1                                                Yes                   \n",
       "2                                                Yes                   \n",
       "3                                                Yes                   \n",
       "4                                                 No                   \n",
       "\n",
       "  Why would or wouldn't you? (optional)  \n",
       "0                                   NaN  \n",
       "1                                   NaN  \n",
       "2                                   NaN  \n",
       "3                                   NaN  \n",
       "4                                   NaN  "
      ]
     },
     "execution_count": 3,
     "metadata": {},
     "output_type": "execute_result"
    }
   ],
   "source": [
    "df = pd.read_csv('Guest-Meal-interest-form-Responses-Form-Responses-1.csv')\n",
    "df.head()"
   ]
  },
  {
   "cell_type": "code",
   "execution_count": 4,
   "metadata": {
    "collapsed": false
   },
   "outputs": [
    {
     "data": {
      "text/html": [
       "<div>\n",
       "<table border=\"1\" class=\"dataframe\">\n",
       "  <thead>\n",
       "    <tr style=\"text-align: right;\">\n",
       "      <th></th>\n",
       "      <th>Timestamp</th>\n",
       "      <th>email</th>\n",
       "      <th>on_meal_plan</th>\n",
       "      <th>unused</th>\n",
       "      <th>selling_interest</th>\n",
       "      <th>selling_price</th>\n",
       "      <th>would_purchase</th>\n",
       "      <th>would_purchase_comment</th>\n",
       "      <th>would_register</th>\n",
       "      <th>would_register_comments</th>\n",
       "      <th>count</th>\n",
       "    </tr>\n",
       "  </thead>\n",
       "  <tbody>\n",
       "    <tr>\n",
       "      <th>0</th>\n",
       "      <td>11/28/2016 23:52:32</td>\n",
       "      <td>0</td>\n",
       "      <td>Yes</td>\n",
       "      <td>6</td>\n",
       "      <td>Yes</td>\n",
       "      <td>$8.01 - $10</td>\n",
       "      <td>Yes</td>\n",
       "      <td>0</td>\n",
       "      <td>Yes</td>\n",
       "      <td>0</td>\n",
       "      <td>1</td>\n",
       "    </tr>\n",
       "    <tr>\n",
       "      <th>1</th>\n",
       "      <td>11/28/2016 23:57:52</td>\n",
       "      <td>0</td>\n",
       "      <td>Yes</td>\n",
       "      <td>4</td>\n",
       "      <td>Yes</td>\n",
       "      <td>$8.01 - $10</td>\n",
       "      <td>Yes</td>\n",
       "      <td>0</td>\n",
       "      <td>Yes</td>\n",
       "      <td>0</td>\n",
       "      <td>1</td>\n",
       "    </tr>\n",
       "    <tr>\n",
       "      <th>2</th>\n",
       "      <td>11/29/2016 0:00:41</td>\n",
       "      <td>0</td>\n",
       "      <td>Yes</td>\n",
       "      <td>7</td>\n",
       "      <td>Yes</td>\n",
       "      <td>$4.01 - $6</td>\n",
       "      <td>Yes</td>\n",
       "      <td>0</td>\n",
       "      <td>Yes</td>\n",
       "      <td>0</td>\n",
       "      <td>1</td>\n",
       "    </tr>\n",
       "    <tr>\n",
       "      <th>3</th>\n",
       "      <td>11/29/2016 0:01:53</td>\n",
       "      <td>0</td>\n",
       "      <td>Yes</td>\n",
       "      <td>10</td>\n",
       "      <td>Yes</td>\n",
       "      <td>$8.01 - $10</td>\n",
       "      <td>No</td>\n",
       "      <td>0</td>\n",
       "      <td>Yes</td>\n",
       "      <td>0</td>\n",
       "      <td>1</td>\n",
       "    </tr>\n",
       "    <tr>\n",
       "      <th>4</th>\n",
       "      <td>11/29/2016 0:10:53</td>\n",
       "      <td>0</td>\n",
       "      <td>Yes</td>\n",
       "      <td>0</td>\n",
       "      <td>No</td>\n",
       "      <td>$14.01 - $16</td>\n",
       "      <td>No</td>\n",
       "      <td>0</td>\n",
       "      <td>No</td>\n",
       "      <td>0</td>\n",
       "      <td>1</td>\n",
       "    </tr>\n",
       "  </tbody>\n",
       "</table>\n",
       "</div>"
      ],
      "text/plain": [
       "             Timestamp email on_meal_plan  unused selling_interest  \\\n",
       "0  11/28/2016 23:52:32     0          Yes       6              Yes   \n",
       "1  11/28/2016 23:57:52     0          Yes       4              Yes   \n",
       "2   11/29/2016 0:00:41     0          Yes       7              Yes   \n",
       "3   11/29/2016 0:01:53     0          Yes      10              Yes   \n",
       "4   11/29/2016 0:10:53     0          Yes       0               No   \n",
       "\n",
       "  selling_price would_purchase would_purchase_comment would_register  \\\n",
       "0   $8.01 - $10            Yes                      0            Yes   \n",
       "1   $8.01 - $10            Yes                      0            Yes   \n",
       "2    $4.01 - $6            Yes                      0            Yes   \n",
       "3   $8.01 - $10             No                      0            Yes   \n",
       "4  $14.01 - $16             No                      0             No   \n",
       "\n",
       "  would_register_comments  count  \n",
       "0                       0      1  \n",
       "1                       0      1  \n",
       "2                       0      1  \n",
       "3                       0      1  \n",
       "4                       0      1  "
      ]
     },
     "execution_count": 4,
     "metadata": {},
     "output_type": "execute_result"
    }
   ],
   "source": [
    "new_columns = ['Timestamp', 'email', 'on_meal_plan', 'unused', 'selling_interest', 'selling_price', 'would_purchase', 'would_purchase_comment', 'would_register' , 'would_register_comments']\n",
    "df.columns = new_columns\n",
    "df = df.fillna(0)\n",
    "df['count'] = 1\n",
    "df.head()"
   ]
  },
  {
   "cell_type": "code",
   "execution_count": 26,
   "metadata": {
    "collapsed": false,
    "scrolled": true
   },
   "outputs": [
    {
     "name": "stdout",
     "output_type": "stream",
     "text": [
      "                 count       \n",
      "would_register   Maybe No Yes\n",
      "selling_interest             \n",
      "No                   2  2   4\n",
      "Yes                  9  2  29\n"
     ]
    },
    {
     "data": {
      "image/png": "[encoded data removed]",
      "text/plain": [
       "<matplotlib.figure.Figure at 0x7f8446ba2908>"
      ]
     },
     "metadata": {},
     "output_type": "display_data"
    }
   ],
   "source": [
    "df_register = df[['selling_interest', 'would_register', 'count']].groupby(['selling_interest','would_register']).count().unstack()\n",
    "ax = df_register.plot.bar(title='Student\\'s Interest in Selling Guest Meals', stacked = True, color=['b', 'r', 'g'], rot=0, figsize=(8,6), width=0.8)\n",
    "ax.legend(['Maybe','No','Yes'], title = 'Register to Guestmeal.me', loc='best')\n",
    "ax.set_xlabel('Interested in Selling Guest Meals')\n",
    "ax.set_ylabel('Number of Students')\n",
    "ax.set_ylim(None, 45)\n",
    "ax.yaxis.grid(True)\n",
    "#ax.axis('tight')\n",
    "fig = ax.get_figure()\n",
    "fig.savefig('interest.png')\n",
    "print(df_register)"
   ]
  },
  {
   "cell_type": "code",
   "execution_count": 5,
   "metadata": {
    "collapsed": false
   },
   "outputs": [
    {
     "data": {
      "image/png": "[encoded data removed]",
      "text/plain": [
       "<matplotlib.figure.Figure at 0x7f8447ac09e8>"
      ]
     },
     "metadata": {},
     "output_type": "display_data"
    }
   ],
   "source": [
    "ax = df['on_meal_plan'].value_counts().plot.bar(title='Students on a Meal Plan', rot = 0, color='royalblue', figsize=(8,6))\n",
    "ax.set_xlabel('On Meal Plan')\n",
    "ax.set_ylabel('Number of Students')\n",
    "ax.set_ylim(0, 27)\n",
    "fig = ax.get_figure()\n",
    "fig.savefig('on_mealplan.png')"
   ]
  },
  {
   "cell_type": "code",
   "execution_count": 28,
   "metadata": {
    "collapsed": false
   },
   "outputs": [
    {
     "name": "stdout",
     "output_type": "stream",
     "text": [
      "                 count     \n",
      "selling_interest    No  Yes\n",
      "unused                     \n",
      "0                  4.0  3.0\n",
      "1                  1.0  2.0\n",
      "2                  NaN  3.0\n",
      "3                  1.0  2.0\n",
      "4                  1.0  5.0\n",
      "5                  1.0  5.0\n",
      "6                  NaN  3.0\n",
      "7                  NaN  6.0\n",
      "8                  NaN  3.0\n",
      "9                  NaN  2.0\n",
      "10                 NaN  6.0\n"
     ]
    },
    {
     "data": {
      "image/png": "[encoded data removed]",
      "text/plain": [
       "<matplotlib.figure.Figure at 0x7f8446c10780>"
      ]
     },
     "metadata": {},
     "output_type": "display_data"
    }
   ],
   "source": [
    "df_register = df[['selling_interest', 'unused', 'count']].groupby(['unused','selling_interest']).count().unstack()\n",
    "ax = df_register.plot.bar(title=\"Student's Interest in Selling Guest Meals and Unused Meals\", stacked = True, color=['b', 'r'], rot=0, figsize=(8,6), width=0.8)\n",
    "ax.legend(['No','Yes'], title = 'Interested in selling meals', loc='best')\n",
    "ax.set_xlabel('Number of Meals each Student had leftover')\n",
    "ax.set_ylabel('Number of Students')\n",
    "ax.set_ylim(None, 8)\n",
    "ax.yaxis.grid(True)\n",
    "#ax.axis('tight')\n",
    "fig = ax.get_figure()\n",
    "fig.savefig('availablemeals.png')\n",
    "print(df_register)"
   ]
  },
  {
   "cell_type": "code",
   "execution_count": 166,
   "metadata": {
    "collapsed": false
   },
   "outputs": [
    {
     "data": {
      "image/png": "[encoded data removed]",
      "text/plain": [
       "<matplotlib.figure.Figure at 0x7fccc36ca320>"
      ]
     },
     "metadata": {},
     "output_type": "display_data"
    }
   ],
   "source": [
    "# df_meals = df['unused'].value_counts().reset_index().sort_values('index')\n",
    "# df_meals = df_meals.set_index('index') \n",
    "# df_meals['group'] = [0,0,0,0,1,1,1,1,2,2,2]\n",
    "# df\n",
    "# ax = df_meals.plot.bar(title='Unused Meals at End of Semester', legend=False, rot = 0, color='royalblue', figsize=(8,6))\n",
    "# ax.set_ylim(0,8)\n",
    "# ax.set_xlabel('Unused Meals')\n",
    "# ax.set_ylabel('Number of Students')\n",
    "# fig = ax.get_figure()\n",
    "# fig.savefig('unused_meals.png')"
   ]
  },
  {
   "cell_type": "code",
   "execution_count": 198,
   "metadata": {
    "collapsed": false
   },
   "outputs": [
    {
     "data": {
      "image/png": "[encoded data removed]",
      "text/plain": [
       "<matplotlib.figure.Figure at 0x7fccc2cdaf60>"
      ]
     },
     "metadata": {},
     "output_type": "display_data"
    }
   ],
   "source": [
    "temp = df['unused'].value_counts().reset_index().sort_values('index')\n",
    "temp = temp.set_index('index') \n",
    "temp['group'] = [0,0,0,0,1,1,1,1,2,2,2]\n",
    "group_meals = temp.groupby('group').sum()\n",
    "group_meals.index = ['0-3','4-7','8-10']\n",
    "ax = group_meals.plot.bar(title='Unused Meals at End of the Semester', legend=False, rot = 0, color='royalblue', figsize=(8,6))\n",
    "ax.set_ylim(0,25)\n",
    "ax.set_xlabel('Unused Meals')\n",
    "ax.set_ylabel('Number of Students')\n",
    "fig = ax.get_figure()\n",
    "fig.savefig('unused_meals.png')\n"
   ]
  },
  {
   "cell_type": "code",
   "execution_count": 5,
   "metadata": {
    "collapsed": false
   },
   "outputs": [
    {
     "data": {
      "image/png": "[encoded data removed]",
      "text/plain": [
       "<matplotlib.figure.Figure at 0x7fb051b3b7f0>"
      ]
     },
     "metadata": {},
     "output_type": "display_data"
    }
   ],
   "source": [
    "df_sell = df[['selling_price', 'would_purchase', 'count']].groupby(['selling_price', 'would_purchase']).count().unstack()\n",
    "df_sell.index = ['$10-12', '$12-14', '$14-16', '$2-4', '$4-6', '$6-8', '$8-10']\n",
    "df_sell = df_sell.reset_index()\n",
    "df_sell['order'] = [4,5,6,0,1,2,3]\n",
    "df_sell = df_sell.set_index('order').sort_index().set_index('index')\n",
    "ax = df_sell.plot.bar(title='Student\\'s Meal Valuation', stacked = True,  color=['y','r','g'], rot=0, figsize=(8,6), width=0.9)\n",
    "ax.legend(['Maybe','No','Yes'], title = 'Purchase at Price')\n",
    "ax.set_xlabel('Selling Price of a Meal')\n",
    "ax.set_ylabel('Number of Students')\n",
    "ax.set_ylim(None, 20)\n",
    "ax.yaxis.grid(True)\n",
    "fig = ax.get_figure()\n",
    "fig.savefig('meal_valuation.png')"
   ]
  },
  {
   "cell_type": "code",
   "execution_count": 201,
   "metadata": {
    "collapsed": false
   },
   "outputs": [
    {
     "data": {
      "text/html": [
       "<div>\n",
       "<table border=\"1\" class=\"dataframe\">\n",
       "  <thead>\n",
       "    <tr>\n",
       "      <th></th>\n",
       "      <th colspan=\"3\" halign=\"left\">count</th>\n",
       "    </tr>\n",
       "    <tr>\n",
       "      <th>would_purchase</th>\n",
       "      <th>Maybe</th>\n",
       "      <th>No</th>\n",
       "      <th>Yes</th>\n",
       "    </tr>\n",
       "    <tr>\n",
       "      <th>index</th>\n",
       "      <th></th>\n",
       "      <th></th>\n",
       "      <th></th>\n",
       "    </tr>\n",
       "  </thead>\n",
       "  <tbody>\n",
       "    <tr>\n",
       "      <th>$2-4</th>\n",
       "      <td>1.0</td>\n",
       "      <td>NaN</td>\n",
       "      <td>1.0</td>\n",
       "    </tr>\n",
       "    <tr>\n",
       "      <th>$4-6</th>\n",
       "      <td>2.0</td>\n",
       "      <td>1.0</td>\n",
       "      <td>9.0</td>\n",
       "    </tr>\n",
       "    <tr>\n",
       "      <th>$6-8</th>\n",
       "      <td>3.0</td>\n",
       "      <td>2.0</td>\n",
       "      <td>5.0</td>\n",
       "    </tr>\n",
       "    <tr>\n",
       "      <th>$8-10</th>\n",
       "      <td>6.0</td>\n",
       "      <td>2.0</td>\n",
       "      <td>10.0</td>\n",
       "    </tr>\n",
       "    <tr>\n",
       "      <th>$10-12</th>\n",
       "      <td>NaN</td>\n",
       "      <td>2.0</td>\n",
       "      <td>NaN</td>\n",
       "    </tr>\n",
       "    <tr>\n",
       "      <th>$12-14</th>\n",
       "      <td>1.0</td>\n",
       "      <td>1.0</td>\n",
       "      <td>1.0</td>\n",
       "    </tr>\n",
       "    <tr>\n",
       "      <th>$14-16</th>\n",
       "      <td>NaN</td>\n",
       "      <td>1.0</td>\n",
       "      <td>NaN</td>\n",
       "    </tr>\n",
       "  </tbody>\n",
       "</table>\n",
       "</div>"
      ],
      "text/plain": [
       "               count           \n",
       "would_purchase Maybe   No   Yes\n",
       "index                          \n",
       "$2-4             1.0  NaN   1.0\n",
       "$4-6             2.0  1.0   9.0\n",
       "$6-8             3.0  2.0   5.0\n",
       "$8-10            6.0  2.0  10.0\n",
       "$10-12           NaN  2.0   NaN\n",
       "$12-14           1.0  1.0   1.0\n",
       "$14-16           NaN  1.0   NaN"
      ]
     },
     "execution_count": 201,
     "metadata": {},
     "output_type": "execute_result"
    }
   ],
   "source": [
    "df_sell"
   ]
  },
  {
   "cell_type": "code",
   "execution_count": null,
   "metadata": {
    "collapsed": true
   },
   "outputs": [],
   "source": []
  }
 ],
 "metadata": {
  "anaconda-cloud": {},
  "kernelspec": {
   "display_name": "Python [Root]",
   "language": "python",
   "name": "Python [Root]"
  },
  "language_info": {
   "codemirror_mode": {
    "name": "ipython",
    "version": 3
   },
   "file_extension": ".py",
   "mimetype": "text/x-python",
   "name": "python",
   "nbconvert_exporter": "python",
   "pygments_lexer": "ipython3",
   "version": "3.5.2"
  }
 },
 "nbformat": 4,
 "nbformat_minor": 0
}
